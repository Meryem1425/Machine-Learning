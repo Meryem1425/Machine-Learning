{
 "cells": [
  {
   "cell_type": "code",
   "execution_count": 6,
   "metadata": {},
   "outputs": [],
   "source": [
    "import pandas as pd\n",
    "import numpy as np\n",
    "from numpy import array\n",
    "from keras.preprocessing.text import one_hot, Tokenizer\n",
    "from keras.preprocessing.sequence import pad_sequences\n",
    "from keras.models import Sequential\n",
    "from keras.layers import Dense\n",
    "from keras.layers import Flatten\n",
    "from keras.layers.embeddings import Embedding"
   ]
  },
  {
   "cell_type": "code",
   "execution_count": 7,
   "metadata": {},
   "outputs": [
    {
     "data": {
      "text/html": [
       "<div>\n",
       "<style scoped>\n",
       "    .dataframe tbody tr th:only-of-type {\n",
       "        vertical-align: middle;\n",
       "    }\n",
       "\n",
       "    .dataframe tbody tr th {\n",
       "        vertical-align: top;\n",
       "    }\n",
       "\n",
       "    .dataframe thead th {\n",
       "        text-align: right;\n",
       "    }\n",
       "</style>\n",
       "<table border=\"1\" class=\"dataframe\">\n",
       "  <thead>\n",
       "    <tr style=\"text-align: right;\">\n",
       "      <th></th>\n",
       "      <th>sentiment</th>\n",
       "      <th>review</th>\n",
       "    </tr>\n",
       "  </thead>\n",
       "  <tbody>\n",
       "    <tr>\n",
       "      <td>0</td>\n",
       "      <td>0</td>\n",
       "      <td>Over several years of looking for half-decent ...</td>\n",
       "    </tr>\n",
       "    <tr>\n",
       "      <td>1</td>\n",
       "      <td>1</td>\n",
       "      <td>I saw this movie on the BIFFF Festival in Brus...</td>\n",
       "    </tr>\n",
       "    <tr>\n",
       "      <td>2</td>\n",
       "      <td>0</td>\n",
       "      <td>Time spent watching this film was time wasted....</td>\n",
       "    </tr>\n",
       "    <tr>\n",
       "      <td>3</td>\n",
       "      <td>1</td>\n",
       "      <td>While not as famous as some of their other col...</td>\n",
       "    </tr>\n",
       "    <tr>\n",
       "      <td>4</td>\n",
       "      <td>1</td>\n",
       "      <td>Frankie Dio (Lee VanCleef) is a high-ranking m...</td>\n",
       "    </tr>\n",
       "  </tbody>\n",
       "</table>\n",
       "</div>"
      ],
      "text/plain": [
       "   sentiment                                             review\n",
       "0          0  Over several years of looking for half-decent ...\n",
       "1          1  I saw this movie on the BIFFF Festival in Brus...\n",
       "2          0  Time spent watching this film was time wasted....\n",
       "3          1  While not as famous as some of their other col...\n",
       "4          1  Frankie Dio (Lee VanCleef) is a high-ranking m..."
      ]
     },
     "execution_count": 7,
     "metadata": {},
     "output_type": "execute_result"
    }
   ],
   "source": [
    "df = pd.read_csv('Review.csv').sample(frac=1).reset_index(drop=True)\n",
    "df['sentiment'] = df['sentiment'].astype('category',inplace = True).cat.codes\n",
    "df.head()"
   ]
  },
  {
   "cell_type": "code",
   "execution_count": 8,
   "metadata": {},
   "outputs": [],
   "source": [
    "docs = df['review']\n",
    "labels = array(df['sentiment'])"
   ]
  },
  {
   "cell_type": "code",
   "execution_count": 9,
   "metadata": {},
   "outputs": [],
   "source": [
    "from sklearn.model_selection import train_test_split \n",
    "X_train, X_test , y_train, y_test = train_test_split(docs, labels , test_size = 0.40)"
   ]
  },
  {
   "cell_type": "code",
   "execution_count": 12,
   "metadata": {},
   "outputs": [
    {
     "name": "stdout",
     "output_type": "stream",
     "text": [
      "The year is 1896.Jeff Webster (James Stewart) doesn't like people.There's only one friend he's got and he's Ben Tatum (Walter Brennan), an old sympathetic man.They're driving a cattle herd with them.That would be their key to richness.In Skagway they run into trouble when Sheriff Gannon (John McIntire) takes the cattle.Now Jeff only has to get it back and drive it through the U.S. Canadian border to Dawson.Now they have a group of other people with them, like the ladies Ronda Castle (Ruth Roman) and Renee Vallon (Corinne Calvet).There the two men get into the gold business.Anthony Mann's and James Stewart's fourth collaboration, The Far Country (1954) is a fine western, indeed.The acting work is superb.Walter Brennan makes a terrific sidekick to Stewart.Ruth Roman is brilliant and Corinne Calvet's delightful.Jay C. Flippen is very good as Dawson Marshal Rube Morris.The great Jack Elam and Kathleen Freeman are seen in smaller roles.It's fantastic to watch how Jimmy Stewart overcome's all the troubles in his way.There's just the man and his rifle.But also he's vulnerable.\n"
     ]
    }
   ],
   "source": [
    "print(X_train.iloc[1])"
   ]
  },
  {
   "cell_type": "code",
   "execution_count": 13,
   "metadata": {},
   "outputs": [
    {
     "name": "stdout",
     "output_type": "stream",
     "text": [
      "65960\n"
     ]
    }
   ],
   "source": [
    "t = Tokenizer()\n",
    "t.fit_on_texts(docs)\n",
    "vocab_size = len(t.word_index) + 1\n",
    "# integer encode the documents\n",
    "print(vocab_size)"
   ]
  },
  {
   "cell_type": "code",
   "execution_count": 14,
   "metadata": {},
   "outputs": [],
   "source": [
    "vocab_size = 65960\n",
    "\n",
    "X_train = [one_hot(d, vocab_size,filters='!\"#$%&()*+,-./:;<=>?@[\\]^_`{|}~',lower=True, split=' ') for d in X_train]\n",
    "X_test = [one_hot(d, vocab_size,filters='!\"#$%&()*+,-./:;<=>?@[\\]^_`{|}~',lower=True, split=' ') for d in X_test]\n"
   ]
  },
  {
   "cell_type": "code",
   "execution_count": 16,
   "metadata": {},
   "outputs": [
    {
     "name": "stdout",
     "output_type": "stream",
     "text": [
      "[30465, 23518, 1495, 22578, 56596, 36681, 46577, 55434, 40223, 58025, 20527, 58542, 39046, 44366, 41566, 18129, 58516, 12928, 18129, 26955, 9979, 40679, 20643, 49938, 29505, 39266, 33150, 51917, 42250, 54227, 62968, 26964, 39280, 39647, 11556, 7994, 30053, 45533, 32073, 50705, 56270, 40264, 38592, 57412, 56778, 7650, 27344, 42307, 38470, 55133, 29898, 54039, 24113, 30465, 62968, 6003, 56596, 39046, 10544, 50705, 28489, 35850, 56598, 12928, 62253, 35850, 22554, 30465, 53371, 27174, 18397, 9203, 50705, 47502, 6003, 57412, 31158, 54227, 11256, 44935, 8268, 20527, 39280, 39647, 58025, 30465, 42399, 43971, 24899, 58507, 45345, 12928, 30891, 42448, 36155, 30976, 62286, 30465, 54000, 5153, 28489, 7650, 30465, 40836, 32013, 48009, 53452, 12928, 46577, 15719, 20370, 9023, 30465, 43017, 51238, 17856, 1495, 54227, 26961, 20722, 29566, 30465, 38883, 28383, 1495, 27568, 40679, 20643, 65929, 54227, 64597, 51721, 50705, 55434, 58507, 45345, 1495, 25624, 12928, 36155, 42494, 15697, 12407, 1254, 30740, 1495, 1877, 31489, 59413, 47502, 10301, 28106, 23722, 30465, 9383, 52598, 65011, 12928, 49935, 13584, 40033, 30251, 40264, 40448, 39668, 46317, 45117, 50705, 38973, 1801, 38034, 55434, 25019, 44517, 30465, 6149, 40264, 12809, 7030, 58542, 41976, 30465, 33150, 12928, 12809, 7578, 10836, 32875, 18129, 60728]\n"
     ]
    }
   ],
   "source": [
    "\n",
    "print(X_train[1])"
   ]
  },
  {
   "cell_type": "code",
   "execution_count": 17,
   "metadata": {},
   "outputs": [
    {
     "name": "stdout",
     "output_type": "stream",
     "text": [
      "[59413, 54227, 44675, 24608, 10480, 47969, 7650, 30465, 60841, 63255, 12831, 24608, 53275, 30465, 6249, 12928, 37750, 30465, 14215, 22496, 59413, 54227, 28081, 64553, 13529, 281, 39823, 43951, 33941, 49754, 30465, 42254, 26584, 6003, 10836, 8193, 1266, 1112, 30465, 8864, 19624, 42307, 24608, 9848, 11569, 44366, 50966, 44366, 41404, 54227, 519, 37228, 47315, 50705, 35850, 13553, 30465, 46436, 44935, 54000, 44935, 30465, 28081, 35932, 63255, 47105, 30465, 19593, 44928, 3671, 44935, 18155, 12928, 30465, 36020, 3671, 44935, 1254, 42155, 59413, 46505, 50705, 12928, 11036, 26307, 24286, 40458, 44935, 11055, 24425, 49247, 7197, 39280, 56038, 11556, 51481, 48441, 24608, 35510, 30465, 19624, 24113, 55918, 55871, 11556, 40458, 19328, 49815, 54227, 64940, 13411, 40458, 19328, 31158, 28081, 56215, 53744, 10836, 30465, 46436, 22967, 56411, 54282, 58542, 32875, 1113, 44653, 50114, 30465, 42523, 44935, 30465, 19624, 50705, 30465, 35932, 49380, 36061, 62877, 37366, 55918, 55871, 43344, 40673, 30465, 64940, 16666, 50114, 30465, 33017, 44935, 30465, 19624, 10480, 32875, 1877, 56411, 54282, 12928, 41404, 54227, 1877, 42397, 63843, 50705, 35850, 59413, 30465, 64940, 22967, 31492, 13553, 40264, 30465, 15675, 10193, 59413, 27639, 23171, 9964, 44461, 30465, 21579, 5153, 36867, 40264, 51003, 60289, 37292, 28355, 54426, 31158, 33725, 65062, 6300, 61828, 13411, 30465, 19624, 59413, 54227, 60841, 1495, 33698, 14424, 49938, 10407, 12928, 54227, 57957, 46317, 30465, 52897, 43229, 54282, 40264, 54227, 37104, 45734, 44935, 49938, 17500, 50705, 54227, 55430, 63932, 44935, 6738, 6270, 8792, 50705, 30465, 44842, 28907, 12802, 44935, 30465, 64940, 54227, 32096, 41404, 9276, 50966, 63932, 17956, 49754, 22496, 12928, 40264, 44366, 44935, 30465, 28081, 56997, 2811, 40264, 30465, 19624, 30465, 32096, 32875, 16766, 40892, 59049, 50705, 5682, 54227, 28613, 44935, 54227, 64940, 11556, 35858, 60824, 58025, 30465, 29259, 44935, 30465, 49380, 36061, 8147, 56038, 60289, 6300, 61828, 24608, 27370, 63074, 55332, 38973, 50966, 17500, 53688, 11055, 6480, 63074, 28489, 50705, 38973, 54227, 35120, 44935, 23910, 29289, 49754, 54227, 59512, 38974, 10415, 281, 32672, 49754, 38974, 45863, 39280, 30465, 23910, 52293, 63821, 50739, 51670, 60415, 12717, 32672, 18432, 44935, 54227, 19624, 57359, 2839, 30465, 59512, 37920, 44935, 8876, 40033, 5067, 19977, 57514, 40276, 7698, 44366, 50314, 11556, 6438, 60421, 10480, 16766, 10193, 35686, 4305, 35374, 5833, 43486, 59413, 38571, 5833, 12928, 62286, 40033, 5067, 27978, 52864, 40276, 34303, 11556, 30465, 52864, 5114, 44935, 6738, 6270, 8792, 46317, 56038, 41615, 32474, 40264, 44040, 24608, 35510, 38571, 11556, 63074, 22967, 12717, 43951, 54227, 63600, 28613, 44935, 30465, 64940, 1521, 63074, 30289, 31158, 50705, 19751, 39280, 30465, 36379, 19217, 11556, 7994, 31158, 32672, 15412, 44935, 50966, 34692, 55676]\n"
     ]
    }
   ],
   "source": [
    "print(X_train[0])"
   ]
  },
  {
   "cell_type": "code",
   "execution_count": 18,
   "metadata": {},
   "outputs": [
    {
     "name": "stdout",
     "output_type": "stream",
     "text": [
      "413\n",
      "749\n",
      "775\n",
      "793\n",
      "1002\n",
      "1719\n",
      "The maximum number of words in any document is :  1719\n"
     ]
    }
   ],
   "source": [
    "maxlen=-1\n",
    "for doc in X_train:\n",
    "    if(maxlen<len(doc)):\n",
    "        maxlen=len(doc)\n",
    "        print(maxlen)\n",
    "print(\"The maximum number of words in any document is : \",maxlen)"
   ]
  },
  {
   "cell_type": "code",
   "execution_count": 19,
   "metadata": {},
   "outputs": [],
   "source": [
    "max_length = 1719\n",
    "X_train = pad_sequences(X_train, maxlen=max_length, padding='pre')\n",
    "X_test = pad_sequences(X_test, maxlen=max_length, padding='pre')"
   ]
  },
  {
   "cell_type": "code",
   "execution_count": 25,
   "metadata": {},
   "outputs": [
    {
     "data": {
      "text/plain": [
       "array([    0,     0,     0, ..., 32875, 18129, 60728])"
      ]
     },
     "execution_count": 25,
     "metadata": {},
     "output_type": "execute_result"
    }
   ],
   "source": [
    "X_train[1]\n"
   ]
  },
  {
   "cell_type": "code",
   "execution_count": 21,
   "metadata": {},
   "outputs": [
    {
     "name": "stdout",
     "output_type": "stream",
     "text": [
      "Model: \"sequential_1\"\n",
      "_________________________________________________________________\n",
      "Layer (type)                 Output Shape              Param #   \n",
      "=================================================================\n",
      "embedding_1 (Embedding)      (None, 1719, 8)           527680    \n",
      "_________________________________________________________________\n",
      "flatten_1 (Flatten)          (None, 13752)             0         \n",
      "_________________________________________________________________\n",
      "dense_1 (Dense)              (None, 1)                 13753     \n",
      "=================================================================\n",
      "Total params: 541,433\n",
      "Trainable params: 541,433\n",
      "Non-trainable params: 0\n",
      "_________________________________________________________________\n",
      "None\n"
     ]
    },
    {
     "name": "stderr",
     "output_type": "stream",
     "text": [
      "C:\\Users\\91800\\AppData\\Local\\Continuum\\anaconda3\\lib\\site-packages\\tensorflow\\python\\framework\\indexed_slices.py:434: UserWarning: Converting sparse IndexedSlices to a dense Tensor of unknown shape. This may consume a large amount of memory.\n",
      "  \"Converting sparse IndexedSlices to a dense Tensor of unknown shape. \"\n"
     ]
    },
    {
     "data": {
      "text/plain": [
       "<keras.callbacks.callbacks.History at 0x249c27fe6a0>"
      ]
     },
     "execution_count": 21,
     "metadata": {},
     "output_type": "execute_result"
    }
   ],
   "source": [
    "model = Sequential()\n",
    "model.add(Embedding(vocab_size, 8, input_length=max_length))\n",
    "model.add(Flatten())\n",
    "model.add(Dense(1, activation='sigmoid'))\n",
    "\n",
    "model.compile(optimizer='adam', loss='binary_crossentropy', metrics=['acc'])\n",
    "\n",
    "print(model.summary())\n",
    "\n",
    "model.fit(X_train, y_train, epochs=20, verbose=0)"
   ]
  },
  {
   "cell_type": "code",
   "execution_count": 22,
   "metadata": {},
   "outputs": [
    {
     "name": "stdout",
     "output_type": "stream",
     "text": [
      "6000/6000 [==============================] - 1s 170us/step\n",
      "Training Accuracy is 100.0\n"
     ]
    }
   ],
   "source": [
    "loss, accuracy = model.evaluate(X_train, y_train, verbose=1)\n",
    "print('Training Accuracy is {}'.format(accuracy*100))"
   ]
  },
  {
   "cell_type": "code",
   "execution_count": 23,
   "metadata": {},
   "outputs": [
    {
     "name": "stdout",
     "output_type": "stream",
     "text": [
      "4000/4000 [==============================] - 1s 179us/step\n",
      "Testing Accuracy is 86.57500147819519 \n"
     ]
    }
   ],
   "source": [
    "loss, accuracy = model.evaluate(X_test,y_test)\n",
    "print('Testing Accuracy is {} '.format(accuracy*100))"
   ]
  },
  {
   "cell_type": "code",
   "execution_count": null,
   "metadata": {},
   "outputs": [],
   "source": []
  }
 ],
 "metadata": {
  "kernelspec": {
   "display_name": "Python 3",
   "language": "python",
   "name": "python3"
  },
  "language_info": {
   "codemirror_mode": {
    "name": "ipython",
    "version": 3
   },
   "file_extension": ".py",
   "mimetype": "text/x-python",
   "name": "python",
   "nbconvert_exporter": "python",
   "pygments_lexer": "ipython3",
   "version": "3.7.3"
  }
 },
 "nbformat": 4,
 "nbformat_minor": 4
}
